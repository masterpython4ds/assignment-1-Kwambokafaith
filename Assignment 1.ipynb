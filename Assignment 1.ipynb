{
 "cells": [
  {
   "cell_type": "markdown",
   "metadata": {},
   "source": [
    "# INTRODUCTION"
   ]
  },
  {
   "cell_type": "markdown",
   "metadata": {},
   "source": [
    "We will be looking at a competition on Kaggle: Data Science for Good: Kiva Crowdfunding \n",
    "In this challenge, Kiva an online crowdfunding platform is inviting the community to help then build more localized models to estimate the poverty levels of residents in the regions where Kiva has active loans.\n",
    "The aim will be to explore the data using Python to help Kiva understand their borrowers and their poverty levels so as to better assess and maximize the impact of their work. Participants should develop their own creative approaches to addressing the objective.\n",
    "The columns are explained as below:\n",
    "Unique ID for loan\n",
    "funded_amount-The amount disbursed by Kiva to the field agent(USD)\n",
    "loan_amount-The amount disbursed by the field agent to the borrower(USD) activity More granular category sectorHigh level category useExact usage of loan amount\n",
    "country_code- ISO country code of country in which loan was disbursed\n",
    "countryFull- country name of country in which loan was disbursed\n",
    "regionFull - region name within the country\n",
    "currency- The currency in which the loan was disbursed\n",
    "partner_id - ID of partner organization\n",
    "posted_time - The time at which the loan is posted on Kiva by the field agent\n",
    "disbursed_time - The time at which the loan is disbursed by the field agent to the borrower\n",
    "funded_time - The time at which the loan posted to Kiva gets funded by lenders completely\n",
    "term_in_months - The duration for which the loan was disbursed in months\n",
    "lender_count - The total number of lenders that contributed to this loan tags\n",
    "borrower_genders- Comma separated M,F letters, where each instance represents a single male/female in the group"
   ]
  },
  {
   "cell_type": "markdown",
   "metadata": {},
   "source": []
  },
  {
   "cell_type": "markdown",
   "metadata": {},
   "source": [
    "# Importing libraries"
   ]
  },
  {
   "cell_type": "code",
   "execution_count": null,
   "metadata": {},
   "outputs": [],
   "source": [
    "import pandas as pd\n",
    "import numpy as np\n",
    "import matplotlib.pyplot as plt\n",
    "import seaborn as sns\n",
    "%matplotlib inline\n",
    "import plotly.graph_objs as go \n",
    "from plotly.offline import download_plotlyjs, init_notebook_mode, plot, iplot\n",
    "init_notebook_mode(connected=True) "
   ]
  },
  {
   "cell_type": "code",
   "execution_count": null,
   "metadata": {},
   "outputs": [],
   "source": [
    "import plotly.plotly as py"
   ]
  },
  {
   "cell_type": "markdown",
   "metadata": {},
   "source": [
    "# Reading and Previewing the data"
   ]
  },
  {
   "cell_type": "markdown",
   "metadata": {},
   "source": [
    "## kiva_loans "
   ]
  },
  {
   "cell_type": "code",
   "execution_count": null,
   "metadata": {},
   "outputs": [],
   "source": [
    "kiva_loans=pd.read_csv('kiva_loans.csv')\n",
    "kiva_loans.head()"
   ]
  },
  {
   "cell_type": "markdown",
   "metadata": {},
   "source": [
    "## kiva_mpi_region_locations"
   ]
  },
  {
   "cell_type": "code",
   "execution_count": null,
   "metadata": {},
   "outputs": [],
   "source": [
    "kiva_mpi_region_locations=pd.read_csv('kiva_mpi_region_locations.csv')\n",
    "kiva_mpi_region_locations.head()"
   ]
  },
  {
   "cell_type": "markdown",
   "metadata": {},
   "source": [
    "## loan_theme_ids"
   ]
  },
  {
   "cell_type": "code",
   "execution_count": null,
   "metadata": {},
   "outputs": [],
   "source": [
    "loan_theme_ids=pd.read_csv('loan_theme_ids.csv')\n",
    "loan_theme_ids.head()"
   ]
  },
  {
   "cell_type": "markdown",
   "metadata": {},
   "source": [
    "## loan_themes_by_region"
   ]
  },
  {
   "cell_type": "code",
   "execution_count": null,
   "metadata": {},
   "outputs": [],
   "source": [
    "loan_themes_by_region=pd.read_csv('loan_themes_by_region.csv')\n",
    "loan_themes_by_region.head()"
   ]
  },
  {
   "cell_type": "markdown",
   "metadata": {},
   "source": [
    "# Unique values in each column per Dataframe"
   ]
  },
  {
   "cell_type": "markdown",
   "metadata": {},
   "source": [
    "## kiva_loans"
   ]
  },
  {
   "cell_type": "code",
   "execution_count": null,
   "metadata": {},
   "outputs": [],
   "source": [
    "unique_values=kiva_loans.nunique()\n",
    "print('Count of unique values in each column :')\n",
    "print(unique_values)"
   ]
  },
  {
   "cell_type": "markdown",
   "metadata": {},
   "source": [
    "## kiva_mpi_region_locations"
   ]
  },
  {
   "cell_type": "code",
   "execution_count": null,
   "metadata": {},
   "outputs": [],
   "source": [
    "unique_values_1=kiva_mpi_region_locations.nunique()\n",
    "print('Count of unique values in each column :')\n",
    "print(unique_values_1)"
   ]
  },
  {
   "cell_type": "markdown",
   "metadata": {},
   "source": [
    "## loan_theme_ids"
   ]
  },
  {
   "cell_type": "code",
   "execution_count": null,
   "metadata": {},
   "outputs": [],
   "source": [
    "unique_values_2=loan_theme_ids.nunique()\n",
    "print('Count of unique values in each column :')\n",
    "print(unique_values_2)"
   ]
  },
  {
   "cell_type": "markdown",
   "metadata": {},
   "source": [
    "## loan_themes_by_region"
   ]
  },
  {
   "cell_type": "code",
   "execution_count": null,
   "metadata": {},
   "outputs": [],
   "source": [
    "unique_values_3=loan_themes_by_region.nunique()\n",
    "print('Count of unique values in each column :')\n",
    "print(unique_values_3)"
   ]
  },
  {
   "cell_type": "markdown",
   "metadata": {},
   "source": [
    "# Statistical Overview of the data"
   ]
  },
  {
   "cell_type": "markdown",
   "metadata": {},
   "source": [
    "## Checking the info of the dataset"
   ]
  },
  {
   "cell_type": "code",
   "execution_count": null,
   "metadata": {},
   "outputs": [],
   "source": [
    "kiva_loans.info()"
   ]
  },
  {
   "cell_type": "markdown",
   "metadata": {},
   "source": [
    "## Description for numerical features"
   ]
  },
  {
   "cell_type": "code",
   "execution_count": null,
   "metadata": {},
   "outputs": [],
   "source": [
    "kiva_loans.describe()"
   ]
  },
  {
   "cell_type": "markdown",
   "metadata": {},
   "source": [
    "## Description to include categorical features"
   ]
  },
  {
   "cell_type": "code",
   "execution_count": null,
   "metadata": {},
   "outputs": [],
   "source": [
    "kiva_loans.describe(include=['O'])"
   ]
  },
  {
   "cell_type": "markdown",
   "metadata": {},
   "source": [
    "# Cleaning the data"
   ]
  },
  {
   "cell_type": "markdown",
   "metadata": {},
   "source": [
    "## Checking for missing values"
   ]
  },
  {
   "cell_type": "markdown",
   "metadata": {},
   "source": [
    "Missing values in Kiva_loans"
   ]
  },
  {
   "cell_type": "code",
   "execution_count": null,
   "metadata": {},
   "outputs": [],
   "source": [
    "total=kiva_loans.isnull().sum().sort_values(ascending = False)\n",
    "percentage=(kiva_loans.isnull().sum()/kiva_loans.isnull().count()).sort_values(ascending = False)\n",
    "missing_kiva_loans  = pd.concat([total, percentage], axis=1, keys=['Total', 'Percentage'])\n",
    "missing_kiva_loans"
   ]
  },
  {
   "cell_type": "markdown",
   "metadata": {},
   "source": [
    "Missing values in kiva_mpi_region_locations "
   ]
  },
  {
   "cell_type": "code",
   "execution_count": null,
   "metadata": {},
   "outputs": [],
   "source": [
    "total=kiva_mpi_region_locations.isnull().sum().sort_values(ascending = False)\n",
    "percentage=(kiva_mpi_region_locations.isnull().sum()/kiva_mpi_region_locations.isnull().count()).sort_values(ascending = False)\n",
    "missing_kiva_location  = pd.concat([total, percentage], axis=1, keys=['Total', 'Percentage'])\n",
    "missing_kiva_location"
   ]
  },
  {
   "cell_type": "markdown",
   "metadata": {},
   "source": [
    "Missing values in loan_theme_ids"
   ]
  },
  {
   "cell_type": "code",
   "execution_count": null,
   "metadata": {},
   "outputs": [],
   "source": [
    "total=loan_theme_ids.isnull().sum().sort_values(ascending = False)\n",
    "percentage=(loan_theme_ids.isnull().sum()/loan_theme_ids.isnull().count()).sort_values(ascending = False)\n",
    "missing_loan_theme_ids  = pd.concat([total, percentage], axis=1, keys=['Total', 'Percentage'])\n",
    "missing_loan_theme_ids"
   ]
  },
  {
   "cell_type": "markdown",
   "metadata": {},
   "source": [
    "Missing values in loan_themes_by_region"
   ]
  },
  {
   "cell_type": "code",
   "execution_count": null,
   "metadata": {},
   "outputs": [],
   "source": [
    "total=loan_themes_by_region.isnull().sum().sort_values(ascending = False)\n",
    "percentage=(loan_themes_by_region.isnull().sum()/loan_themes_by_region.isnull().count()).sort_values(ascending = False)\n",
    "missing_loan_themes_by_region  = pd.concat([total, percentage], axis=1, keys=['Total', 'Percentage'])\n",
    "missing_loan_themes_by_region"
   ]
  },
  {
   "cell_type": "markdown",
   "metadata": {},
   "source": [
    "# Exploratory Data Analysis"
   ]
  },
  {
   "cell_type": "code",
   "execution_count": null,
   "metadata": {},
   "outputs": [],
   "source": [
    "kiva_loans.head(2)"
   ]
  },
  {
   "cell_type": "markdown",
   "metadata": {},
   "source": [
    "## The relationship among numerical variables "
   ]
  },
  {
   "cell_type": "code",
   "execution_count": null,
   "metadata": {},
   "outputs": [],
   "source": [
    "sns.pairplot(kiva_loans,palette='rainbow')"
   ]
  },
  {
   "cell_type": "markdown",
   "metadata": {},
   "source": [
    "## Distribution of Loan amount"
   ]
  },
  {
   "cell_type": "code",
   "execution_count": null,
   "metadata": {},
   "outputs": [],
   "source": [
    "sns.distplot(kiva_loans['loan_amount'],kde=False,bins=30)\n",
    "plt.title('Distribution of Loan amount')"
   ]
  },
  {
   "cell_type": "markdown",
   "metadata": {},
   "source": [
    "All loans are below 20,000"
   ]
  },
  {
   "cell_type": "markdown",
   "metadata": {},
   "source": [
    "## Distribution of loan amount per sector"
   ]
  },
  {
   "cell_type": "code",
   "execution_count": null,
   "metadata": {},
   "outputs": [],
   "source": [
    "plt.figure(figsize=(12,8))\n",
    "sns.barplot(x='sector',y='loan_amount',data=kiva_loans)\n",
    "plt.xticks(rotation=45)\n",
    "plt.title('Distribution of loan amount per sector')"
   ]
  },
  {
   "cell_type": "markdown",
   "metadata": {},
   "source": [
    "The entertainment sector recorded the highest loan amount followed by the wholesale sector. Personal use recorded the lowest loan amount"
   ]
  },
  {
   "cell_type": "markdown",
   "metadata": {},
   "source": [
    "## Distribution of funded amount"
   ]
  },
  {
   "cell_type": "code",
   "execution_count": null,
   "metadata": {},
   "outputs": [],
   "source": [
    "sns.distplot(kiva_loans['funded_amount'],kde=False,bins=30)\n",
    "plt.title('Distribution of Funded amount')"
   ]
  },
  {
   "cell_type": "markdown",
   "metadata": {},
   "source": [
    "All funded amounts are below 20000"
   ]
  },
  {
   "cell_type": "markdown",
   "metadata": {},
   "source": [
    "## Distribution of funded amount per sector"
   ]
  },
  {
   "cell_type": "code",
   "execution_count": null,
   "metadata": {},
   "outputs": [],
   "source": [
    "plt.figure(figsize=(12,8))\n",
    "sns.barplot(x='sector',y='funded_amount',data=kiva_loans)\n",
    "plt.xticks(rotation=45)\n",
    "plt.title('Distribution of funded amount per sector')"
   ]
  },
  {
   "cell_type": "markdown",
   "metadata": {},
   "source": [
    "The wholesale sector has the highest funded amount followed by the entertainment sector.Personal use has the lowest funded amount followed by Housing."
   ]
  },
  {
   "cell_type": "code",
   "execution_count": null,
   "metadata": {},
   "outputs": [],
   "source": [
    "kiva_loans.head(2)"
   ]
  },
  {
   "cell_type": "code",
   "execution_count": null,
   "metadata": {},
   "outputs": [],
   "source": [
    "data = dict(\n",
    "        type = 'choropleth',\n",
    "        locations = kiva_loans['country_code'],\n",
    "        z = kiva_loans['loan_amount'],\n",
    "        text = kiva_loans['country'],\n",
    "        colorbar = {'title' : 'loan amount'},\n",
    "      ) \n",
    "#Layout\n",
    "layout = dict(\n",
    "    title = 'KIva Global Loan distribution',\n",
    "    geo = dict(\n",
    "        showframe = True,\n",
    "        projection = {'type':'mercator'}\n",
    "    )\n",
    ")\n",
    "#Plotting the graph\n",
    "choromap = go.Figure(data = [data],layout = layout)\n",
    "iplot(choromap)"
   ]
  },
  {
   "cell_type": "code",
   "execution_count": null,
   "metadata": {},
   "outputs": [],
   "source": [
    "choropleth = go.Choropleth(z = kiva_loans[‘loan_amount'],\n",
    "locations = kiva_loans[‘country’], locationmode = ‘country names’)\n",
    "#Layout\n",
    "layout = go.Layout(title = ‘Loan amount distribution in the world’, \\\n",
    "geo = {‘projection’: {‘type’: ''}})\n",
    "#Drawing the graph\n",
    "figure = go.Figure(data = [choropleth], layout = layout)\n",
    "plot(figure)"
   ]
  },
  {
   "cell_type": "code",
   "execution_count": null,
   "metadata": {},
   "outputs": [],
   "source": []
  }
 ],
 "metadata": {
  "kernelspec": {
   "display_name": "Python 3",
   "language": "python",
   "name": "python3"
  },
  "language_info": {
   "codemirror_mode": {
    "name": "ipython",
    "version": 3
   },
   "file_extension": ".py",
   "mimetype": "text/x-python",
   "name": "python",
   "nbconvert_exporter": "python",
   "pygments_lexer": "ipython3",
   "version": "3.7.6"
  }
 },
 "nbformat": 4,
 "nbformat_minor": 4
}
